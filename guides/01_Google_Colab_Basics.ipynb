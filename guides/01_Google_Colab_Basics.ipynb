{
  "cells": [
    {
      "cell_type": "markdown",
      "metadata": {
        "id": "6v7RxSVjXrVg"
      },
      "source": [
        "# A Guide to Google Colab"
      ]
    },
    {
      "cell_type": "markdown",
      "metadata": {},
      "source": [
        "[View this notebook on Google Colab](https://colab.research.google.com/drive/1b30C7P8mbUggbHhuC5WvVF78AxP_3dOy?usp=sharing)"
      ]
    },
    {
      "cell_type": "markdown",
      "metadata": {
        "id": "tWsCnS-S2Ohq"
      },
      "source": [
        "## Introduction\n",
        "\n",
        "This document is a **Jupyter Notebook** running on **Google Colab**.\n",
        "\n",
        "[Jupyter Notebooks](https://jupyter.org/) are interactive documents that can contain a mix of narrative text cells, where you can document and explain your work, and code cells, where you can write Python code to perform calculations and run them like:"
      ]
    },
    {
      "cell_type": "code",
      "execution_count": null,
      "metadata": {
        "colab": {
          "base_uri": "https://localhost:8080/"
        },
        "id": "_TZ1ty1l38CS",
        "outputId": "245dd42a-bac0-4efe-c650-f13d4170554b"
      },
      "outputs": [
        {
          "data": {
            "text/plain": [
              "2"
            ]
          },
          "execution_count": 1,
          "metadata": {},
          "output_type": "execute_result"
        }
      ],
      "source": [
        "1 + 1"
      ]
    },
    {
      "cell_type": "markdown",
      "metadata": {
        "id": "kLAuFGPxilkS"
      },
      "source": [
        "\n",
        "This combination of rich text, code, results and visualisations makes Jupyter Notebooks a popular tool in scientific and research environments, used both in academia and industry. You will learn more about them and use them in your AI Studio module.\n",
        "\n",
        "[Google Colab](https://colab.research.google.com/) (short for Colaboratory) is a cloud-based service that runs Jupyter Notebooks. With Colab you can create, collaborate on and share Notebooks from the web without having to set up anything on your machine."
      ]
    },
    {
      "cell_type": "markdown",
      "metadata": {
        "id": "RN4M1LMk4t1T"
      },
      "source": [
        "## Getting Started\n",
        "\n",
        "To get started with Google Colab, you need a web browser and a Google account.\n",
        "\n",
        "To create a new Colab Notebook:\n",
        "1. Log into your Google Account\n",
        "2. Go to https://colab.research.google.com/\n",
        "3. Click on \"New Notebook\"\n",
        "\n",
        "Notebooks will be saved to your Google Drive by default.\n",
        "\n",
        "Alternatively, you can make a copy of an existing notebook by clicking the `Copy to Drive` button or clicking `\"File\" > \"Save a copy in Drive\"` when viewing it.\n",
        "\n",
        "You can try to create a copy of this notebook and edit it.\n",
        "\n",
        "**Note:** Giving your notebook clear, meaningful names is good practice. To edit the name of a notebook, click the file name (default is `Untitled1.ipynb`) on the upper left part of the page.\n"
      ]
    },
    {
      "cell_type": "markdown",
      "metadata": {
        "id": "DLpoBYiICrjI"
      },
      "source": [
        "## Cells\n",
        "\n",
        "A Colab Notebook is made of cells, mainly **text cells** and **code cells**.\n",
        "\n",
        "\n"
      ]
    },
    {
      "cell_type": "markdown",
      "metadata": {
        "id": "J73ZCQP_J3Tv"
      },
      "source": [
        "### Text Cells\n",
        "This is a text cell. You can use it to write notes, document the code, provide explanations, etc. They are formatted using Markdown (more about this [here](https://colab.research.google.com/drive/1_YKkYG3dQY_tQXpj3uYTD7DL86f6HRdI#scrollTo=IsYitapHR-qG&line=1&uniqifier=1)).\n",
        "\n",
        "To add a text cell, you can do any of the following:\n",
        "- Click the `+ Text` button from the toolbar\n",
        "- Click `\"Insert\">\"Text Cell\"` the top toolbar\n",
        "- Hover between cells and click the `+ Text` button\n",
        "\n",
        "To edit a text cell, you can:\n",
        "- Double click on it\n",
        "- Select it and click the Edit button (pencil icon) from the cell's toolbar.\n"
      ]
    },
    {
      "cell_type": "markdown",
      "metadata": {
        "id": "6VP02TjQJ0R8"
      },
      "source": [
        "\n",
        "### Code Cells\n",
        "Code cells are where you write and run your python code. They have an output area to display the results of running the code.\n",
        "\n",
        "To add a code cell:\n",
        "\n",
        "- Click the `\"+ Code\"` button\n",
        "- Use `\"Insert\" > \"Code cell\"`\n",
        "- Hover between cells and click the `+ Code` button\n",
        "\n",
        "Once you add the cell, you can write your code, but you won't see the result until you run the cell. To run a code cell:\n",
        "\n",
        "- Click the `Run Cell` button (▶) that appears when you hover over the cell\n",
        "- Press Shift + Enter while the cell is selected\n",
        "\n",
        "Try running this code cell:"
      ]
    },
    {
      "cell_type": "code",
      "execution_count": null,
      "metadata": {
        "id": "RVwJpy4XJaLV"
      },
      "outputs": [],
      "source": [
        "5 * 11"
      ]
    },
    {
      "cell_type": "markdown",
      "metadata": {
        "id": "ESBWO_vtTi58"
      },
      "source": [
        "To edit a code cell, you just need to click it. Try to edit the empty code cell below then run it to see the result."
      ]
    },
    {
      "cell_type": "code",
      "execution_count": null,
      "metadata": {
        "id": "1lCIxX03Ts9t"
      },
      "outputs": [],
      "source": []
    },
    {
      "cell_type": "markdown",
      "metadata": {
        "id": "kUxqy259NxSF"
      },
      "source": [
        "Note that **the order in which you run code cells matter**. This will be important later as you start exploring variables, functions and more complex code."
      ]
    },
    {
      "cell_type": "markdown",
      "metadata": {
        "id": "0JZSLCm2LVh6"
      },
      "source": [
        "### Selecting, Reordering and Deleting Cells\n",
        "\n",
        "Click a cell to select it. You will see a grey shadow border around it to indicate that its selected.\n",
        "\n",
        "Use the toolbar above the selected cell to:\n",
        "- Move the cell up or down\n",
        "- Cut/Copy the cell\n",
        "- Delete the cell\n",
        "\n"
      ]
    },
    {
      "cell_type": "markdown",
      "metadata": {
        "id": "IsYitapHR-qG"
      },
      "source": [
        "# Markdown\n",
        "Markdown is a simple formatting syntax used in text cells. In this notebook, we will be covering some of the essentials. For more details check:\n",
        "- [Markdown Guide - Colab](https://colab.research.google.com/notebooks/markdown_guide.ipynb#scrollTo=5Y3CStVkLxqt)\n",
        "- [Markdown Cheat Sheet](https://www.markdownguide.org/cheat-sheet/)"
      ]
    },
    {
      "cell_type": "markdown",
      "metadata": {
        "id": "W_pR5QprTUB1"
      },
      "source": [
        "## Headings\n",
        "To insert section headings, like the one above, you use a hashtag symbol `#` before the heading title. The number of hashtags indicates the heading level, with heading level one being the main heading in the page.\n",
        "\n",
        "Example:\n",
        "```\n",
        "# Heading Level 1\n",
        "## Heading Level 2\n",
        "### Heading Level 3\n",
        "```"
      ]
    },
    {
      "cell_type": "markdown",
      "metadata": {
        "id": "2H82IQXKUOhJ"
      },
      "source": [
        "## Text Styling\n",
        "\n",
        "To make text **bold**, you surround it with `__` or `**`. Example: `This is a **bold text**`\n",
        "\n",
        "To _italicise_ text, you surround it with `_` or `*`. Example: `I like _italics_`\n",
        "\n",
        "To ~~strikethrough~~ text, you suround it with `~~`. Example: `I ~~don't~~ know how to format text`"
      ]
    },
    {
      "cell_type": "markdown",
      "metadata": {
        "id": "mp-XmVXgXEkk"
      },
      "source": [
        "## New Paragraphs\n",
        "\n",
        "Nobody [*citation needed*] likes long, unformatted waals of text. Separating paragraphs is important for readability. To separate two paragraphs, add a blank line between them. For example:\n",
        "```\n",
        "This is paragraph one.\n",
        "This is still part of paragraph one.\n",
        "\n",
        "This is paragraph two. There's a blank space above it to separate it from paragraph one.\n",
        "```\n",
        "\n",
        "This renders as:\n",
        "\n",
        "This is paragraph one.\n",
        "This is still part of paragraph one.\n",
        "\n",
        "This is paragraph two. There's a blank space above it to separate it from paragraph one.\n",
        "\n"
      ]
    },
    {
      "cell_type": "markdown",
      "metadata": {
        "id": "k4vInS13ZZy3"
      },
      "source": [
        "## Lists\n",
        "\n",
        "**Numbered lists**:\n",
        "\n",
        "```\n",
        "1. First item\n",
        "2. Second item\n",
        "   1. Nested item\n",
        "   2. Another nested item\n",
        "3. Third item\n",
        "```\n",
        "\n",
        "shows as:\n",
        "\n",
        "1. First item\n",
        "2. Second item\n",
        "   1. Nested item\n",
        "   2. Another nested item\n",
        "3. Third item\n",
        "\n",
        "**Bulleted lists** can be done in a few different ways:\n",
        "\n",
        "```\n",
        "- Item one\n",
        "+ Item two\n",
        "* Item three\n",
        "  - Nested item\n",
        "```\n",
        "shows as:\n",
        "\n",
        "- list item\n",
        "+ list item\n",
        "* list item\n",
        "\n",
        "**Task lists**:\n",
        "```\n",
        "- [ ] Unchecked item\n",
        "- [x] Checked item\n",
        "- [ ] Unchecked item\n",
        "```\n",
        "shows as:\n",
        "\n",
        "- [ ] Unchecked item\n",
        "- [x] Checked item\n",
        "- [ ] Unchecked item"
      ]
    },
    {
      "cell_type": "markdown",
      "metadata": {
        "id": "qqIPo6EsYOBT"
      },
      "source": [
        "## Links\n",
        "\n",
        "You can add links to your Markdown text to reference external resources or other parts of your notebook. To create a link, you format it as `[Link Text](URL)`. For example:\n",
        "\n",
        "```\n",
        "Check out [Google's homepage](https://www.google.com).\n",
        "```\n",
        "This will appear as: Check out [Google's homepage](https://www.google.com).\n",
        "\n",
        "\n",
        "You can also create automatic links for URLs by enclosing them in angle brackets:\n",
        "\n",
        "`<https://www.python.org>` results in https://www.python.org\n",
        "\n"
      ]
    },
    {
      "cell_type": "markdown",
      "metadata": {
        "id": "FajA25UNzgr7"
      },
      "source": [
        "## Images\n",
        "\n",
        "You can embed images in your Markdown cells using a syntax similar to links, but with an exclamation mark at the beginning:\n",
        "```\n",
        "![Alt Text](Image URL)\n",
        "```\n",
        "\n",
        "For example, `![Dog](https://place.dog/400/300)` will show as:\n",
        "\n",
        "![Dog](https://place.dog/400/300)\n"
      ]
    },
    {
      "cell_type": "markdown",
      "metadata": {
        "id": "wp776IbkbNjD"
      },
      "source": [
        "# A Bit of Python"
      ]
    },
    {
      "cell_type": "markdown",
      "metadata": {
        "id": "SaQnq-4RbV7i"
      },
      "source": [
        "## Introduction\n",
        "\n",
        "Python is a general-purpose programming language widely used in data science, AI, and machine learning. It also happens to be the language that Google Colab supports.\n"
      ]
    },
    {
      "cell_type": "markdown",
      "metadata": {
        "id": "ZUJH9EwpcNpQ"
      },
      "source": [
        "So far, we've only used code that performs simple calculations, like `5 * 11` or `1 + 1`, but we can do so much more with python, like trying to answer the age old question of: How much pasta do I need to cook?\n",
        "\n"
      ]
    },
    {
      "cell_type": "markdown",
      "metadata": {
        "id": "sriUEd6k-x0T"
      },
      "source": [
        "## Pasta for Two\n",
        "\n",
        "Let's start with a pasta portion for two. Portion size is selected based on the data from most pasta package instructions sold in the UK. Try to run the code below:\n",
        "\n"
      ]
    },
    {
      "cell_type": "code",
      "execution_count": null,
      "metadata": {
        "colab": {
          "base_uri": "https://localhost:8080/"
        },
        "id": "t84NO2Vi_011",
        "outputId": "7b1cc9c8-54fc-4cb6-f99e-09655361bced"
      },
      "outputs": [
        {
          "name": "stdout",
          "output_type": "stream",
          "text": [
            "For 2 people, you need 160 grams of pasta.\n"
          ]
        }
      ],
      "source": [
        "person_count = 2\n",
        "grams_per_person = 80\n",
        "\n",
        "total_grams = person_count * grams_per_person\n",
        "\n",
        "print(f\"For {person_count} people, you need {total_grams} grams of pasta.\")"
      ]
    },
    {
      "cell_type": "markdown",
      "metadata": {
        "id": "u3SsYBCIATTC"
      },
      "source": [
        "Let's break down what's happening here:\n",
        "\n",
        "### Variables\n",
        "In the first three lines, we're using variables. A variable is like a labeled container that holds a value.\n",
        "\n",
        "`person_count = 2` creates a variable called `person_count` and stores the value 2 in it. Similarly,\n",
        "`grams_per_person = 80` creates a variable called `grams_per_person` and stores the number `80` in it.\n",
        "Variables can store different types of values, like numbers, text (strings), lists, and so on.\n",
        "\n",
        "Variables can also be assigned mathematical operations. `total_grams` is assigned the value of `person_count * grams_per_person`\n",
        "\n",
        "### Print\n",
        "print() is a python function used to display output. Whatever you put inside the parentheses will be shown when the code runs.\n",
        "\n",
        "### F-string\n",
        "The f\"...\" is called an f-string. It allows us to embed variables directly in our text, making it easy to create formatted strings.\n",
        "\n"
      ]
    },
    {
      "cell_type": "markdown",
      "metadata": {
        "id": "WepUSAu-CQk-"
      },
      "source": [
        "## Pasta for How Many\n",
        "\n",
        "Now imagine you want to cook pasta for 3 people. You can rewrite the same code and change the value of `person_count` to 3. This works well, but then what if you wanted to cook for 4, or some other number of people? You can avoid having to re-write the same code over and over again by turning it into a **function**.\n",
        "\n",
        "Functions are reusable pieces of code. They are a set of instructions that can have inputs and may return outputs.\n",
        "\n",
        "This is what our new pasta function looks like:"
      ]
    },
    {
      "cell_type": "code",
      "execution_count": null,
      "metadata": {
        "id": "CPCV97R0G1MJ"
      },
      "outputs": [],
      "source": [
        "def calculate_pasta(person_count):\n",
        "    grams_per_person = 80\n",
        "    total_grams = person_count * grams_per_person\n",
        "    print(f\"For {person_count} people, you need {total_grams} grams of pasta.\")"
      ]
    },
    {
      "cell_type": "markdown",
      "metadata": {
        "id": "jZo02aClHQOY"
      },
      "source": [
        "Running the code above doesn't show anything in the output panel, but it defines a function called `calculate_pasta` that will print how much pasta we need when it is used. It expect one input, `person_count`. Make sure to run the code above first, then run the code below to count how much pasta you need for 3 people:"
      ]
    },
    {
      "cell_type": "code",
      "execution_count": null,
      "metadata": {
        "colab": {
          "base_uri": "https://localhost:8080/"
        },
        "id": "SRIq_ZjlHtAn",
        "outputId": "6f6da504-8983-4402-9f40-eaec0f8fe5d6"
      },
      "outputs": [
        {
          "name": "stdout",
          "output_type": "stream",
          "text": [
            "For 8 people, you need 640 grams of pasta.\n"
          ]
        }
      ],
      "source": [
        "number_of_people = 8\n",
        "calculate_pasta(number_of_people)"
      ]
    },
    {
      "cell_type": "markdown",
      "metadata": {
        "id": "83ly7IMeIWjQ"
      },
      "source": [
        "Try to call the function again for a different number of people.\n",
        "\n",
        "Feel free to experiment. You can change the function to have your preferred portion size (`grams_per_person`), or have it print a different text, or write a new function that does something completely different. Google Colab is your playground!"
      ]
    },
    {
      "cell_type": "markdown",
      "metadata": {
        "id": "GkSxq_qzNSnr"
      },
      "source": [
        "# Resources\n",
        "\n",
        "Still populating this list. Please feel free to suggest resources.\n",
        "\n",
        "## Jupyter Notebooks\n",
        "- This notebook was **heavily** inspired by [Jupyter Notebook 101](https://www.kaggle.com/code/jhoward/jupyter-notebook-101/notebook)\n",
        "\n",
        "## Colab\n",
        "- [Colab intro & guides](https://colab.research.google.com/#scrollTo=-Rh3-Vt9Nev9)\n",
        "- [Colab useful shortcuts](https://colab.research.google.com/drive/13IO3-gfyS9mSPuzAo6-wsYBUOVpxb_va?usp=sharing#scrollTo=JvHqpL94zh_7)\n",
        "\n",
        "## Python\n",
        "- [Python for beginners - Microsoft Training](https://learn.microsoft.com/en-us/training/paths/beginner-python/)\n",
        "- [The Python Tutorial](https://docs.python.org/3/tutorial/)"
      ]
    }
  ],
  "metadata": {
    "colab": {
      "provenance": []
    },
    "kernelspec": {
      "display_name": "Python 3",
      "name": "python3"
    },
    "language_info": {
      "name": "python"
    }
  },
  "nbformat": 4,
  "nbformat_minor": 0
}
